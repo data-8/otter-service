{
 "cells": [
  {
   "cell_type": "code",
   "execution_count": null,
   "metadata": {
    "deletable": false,
    "editable": false
   },
   "outputs": [],
   "source": [
    "# Initialize Otter\n",
    "import otter\n",
    "grader = otter.Notebook(\"lab01.ipynb\")"
   ]
  },
  {
   "cell_type": "markdown",
   "metadata": {},
   "source": [
    "# Lab 1: Introduction to Python\n",
    "\n",
    "Welcome to Lab 1!  Each week you will complete a lab assignment like this one. In this lab, you'll get started with the Python programming language through numbers, names, and expressions.\n",
    "\n",
    "As you go, please regularly select **Save and Checkpoint** from the `File` menu below the Jupyter logo to save your work."
   ]
  },
  {
   "cell_type": "markdown",
   "metadata": {},
   "source": [
    "# 1.2.1 Numbers\n",
    "\n",
    "Quantitative information arises everywhere in data science. In addition to representing commands to print out lines, expressions can represent numbers and methods of combining numbers. The expression `3.2500` evaluates to the number 3.25. (Run the cell and see.)"
   ]
  },
  {
   "cell_type": "code",
   "execution_count": null,
   "metadata": {},
   "outputs": [],
   "source": [
    "3.2500"
   ]
  },
  {
   "cell_type": "markdown",
   "metadata": {},
   "source": [
    "Notice that we didn't have to `print`. When you run a notebook cell, if the last line has a value, then Jupyter helpfully prints out that value for you. However, it won't print out prior lines automatically."
   ]
  },
  {
   "cell_type": "code",
   "execution_count": null,
   "metadata": {
    "tags": []
   },
   "outputs": [],
   "source": [
    "print(2)\n",
    "3\n",
    "4"
   ]
  },
  {
   "cell_type": "markdown",
   "metadata": {},
   "source": [
    "Above, you should see that 4 is the value of the last expression, 2 is printed, but 3 is lost forever because it was neither printed nor last.\n",
    "\n",
    "You don't want to print everything all the time anyway.  But if you feel sorry for 3, change the cell above to print it."
   ]
  },
  {
   "cell_type": "markdown",
   "metadata": {},
   "source": [
    "## 1.2.1.1 Arithmetic\n",
    "The line in the next cell subtracts.  Its value is what you'd expect.  Run it."
   ]
  },
  {
   "cell_type": "code",
   "execution_count": null,
   "metadata": {},
   "outputs": [],
   "source": [
    "3.25 - 1.5"
   ]
  },
  {
   "cell_type": "markdown",
   "metadata": {},
   "source": [
    "Many basic arithmetic operations are built into Python.  The textbook section on [Expressions](http://www.inferentialthinking.com/chapters/03/1/Expressions.html) describes all the arithmetic operators used in the course.  The common operator that differs from typical math notation is `**`, which raises one number to the power of the other. So, `2**3` stands for $2^3$ and evaluates to 8. \n",
    "\n",
    "The order of operations is the same as what you learned in elementary school, and Python also has parentheses.  For example, compare the outputs of the cells below. The second cell uses parentheses for a happy new year!"
   ]
  },
  {
   "cell_type": "code",
   "execution_count": null,
   "metadata": {},
   "outputs": [],
   "source": [
    "6+6*5-6*3**2*2**3/4*7"
   ]
  },
  {
   "cell_type": "code",
   "execution_count": null,
   "metadata": {},
   "outputs": [],
   "source": [
    "6+(6*5-(6*3))**2*((2**3)/4*7)"
   ]
  },
  {
   "cell_type": "markdown",
   "metadata": {},
   "source": [
    "In standard math notation, the first expression is\n",
    "\n",
    "$$6 + 6 \\times 5 - 6 \\times 3^2 \\times \\frac{2^3}{4} \\times 7,$$\n",
    "\n",
    "while the second expression is\n",
    "\n",
    "$$6 + (6 \\times 5 - (6 \\times 3))^2 \\times \\left(\\frac{\\left(2^3\\right)}{4} \\times 7\\right).$$\n",
    "\n",
    "**Question 1.2.1.1.1.** Write a Python expression in this next cell that's equal to $\\displaystyle 5 \\times \\left(3 \\frac{10}{11}\\right) - 50 \\frac{1}{3} + 2^{.5 \\times 22} - \\frac{7}{33} + 4$.  That's five times three and ten elevenths, minus fifty and a third, plus two to the power of half twenty-two, minus seven thirty-thirds plus four.  By \"$\\displaystyle 3 \\frac{10}{11}$\" we mean $\\displaystyle 3+\\frac{10}{11}$, not $\\displaystyle 3 \\times \\frac{10}{11}$.\n",
    "\n",
    "Replace the ellipses (`...`) with your expression.  Try to use parentheses only when necessary.\n",
    "\n",
    "*Hint:* The correct output should start with a familiar number."
   ]
  },
  {
   "cell_type": "code",
   "execution_count": null,
   "metadata": {
    "deletable": false
   },
   "outputs": [],
   "source": [
    "5*(3+10/11)-(50+1/3)+2**(.5*22)-7/33 + 5 #SOLUTION"
   ]
  },
  {
   "cell_type": "markdown",
   "metadata": {},
   "source": [
    "# 1.2.2. Names\n",
    "In natural language, we have terminology that lets us quickly reference very complicated concepts.  We don't say, \"That's a large mammal with brown fur and sharp teeth!\"  Instead, we just say, \"Bear!\"\n",
    "\n",
    "In Python, we do this with *assignment statements*. An assignment statement has a name on the left side of an `=` sign and an expression to be evaluated on the right."
   ]
  },
  {
   "cell_type": "code",
   "execution_count": null,
   "metadata": {},
   "outputs": [],
   "source": [
    "ten = 3 * 2 + 4"
   ]
  },
  {
   "cell_type": "markdown",
   "metadata": {},
   "source": [
    "When you run that cell, Python first computes the value of the expression on the right-hand side, `3 * 2 + 4`, which is the number 10.  Then it assigns that value to the name `ten`.  At that point, the code in the cell is done running.\n",
    "\n",
    "After you run that cell, the value 10 is bound to the name `ten`:"
   ]
  },
  {
   "cell_type": "code",
   "execution_count": null,
   "metadata": {},
   "outputs": [],
   "source": [
    "ten"
   ]
  },
  {
   "cell_type": "markdown",
   "metadata": {},
   "source": [
    "The statement `ten = 3 * 2 + 4` is not asserting that `ten` is already equal to `3 * 2 + 4`, as we might expect by analogy with math notation.  Rather, that line of code changes what `ten` means; it now refers to the value 10, whereas before it meant nothing at all.\n",
    "\n",
    "If the designers of Python had been ruthlessly pedantic, they might have made us write\n",
    "\n",
    "    define the name ten to hereafter have the value of 3 * 2 + 4 \n",
    "\n",
    "instead.  You will probably appreciate the brevity of \"`=`\"!  But keep in mind that this is the real meaning.\n",
    "\n",
    "**Question 1.2.2.1.** Run the following cell which uses a variable name `eleven` that hasn't been assigned to anything. You'll see an error!"
   ]
  },
  {
   "cell_type": "code",
   "execution_count": null,
   "metadata": {
    "tags": [
     "raises-exception"
    ]
   },
   "outputs": [],
   "source": [
    "eleven + 8"
   ]
  },
  {
   "cell_type": "markdown",
   "metadata": {},
   "source": [
    "A common pattern in Jupyter notebooks is to assign a value to a name and then immediately evaluate the name in the last line in the cell so that the value is displayed as output. "
   ]
  },
  {
   "cell_type": "code",
   "execution_count": null,
   "metadata": {},
   "outputs": [],
   "source": [
    "close_to_pi = 355/113\n",
    "close_to_pi"
   ]
  },
  {
   "cell_type": "markdown",
   "metadata": {},
   "source": [
    "Another common pattern is that a series of lines in a single cell will build up a complex computation in stages, naming the intermediate results."
   ]
  },
  {
   "cell_type": "code",
   "execution_count": null,
   "metadata": {},
   "outputs": [],
   "source": [
    "semimonthly_salary = 842.5\n",
    "monthly_salary = 2 * semimonthly_salary\n",
    "number_of_months_in_a_year = 12\n",
    "yearly_salary = number_of_months_in_a_year * monthly_salary\n",
    "yearly_salary"
   ]
  },
  {
   "cell_type": "markdown",
   "metadata": {},
   "source": [
    "Names in Python can have letters (upper- and lower-case letters are both okay and count as different letters), underscores, and numbers.  The first character can't be a number (otherwise a name might look like a number).  And names can't contain spaces, since spaces are used to separate pieces of code from each other.\n",
    "\n",
    "Other than those rules, what you name something doesn't matter *to Python*.  For example, this cell does the same thing as the above cell, except everything has a different name:"
   ]
  },
  {
   "cell_type": "code",
   "execution_count": null,
   "metadata": {},
   "outputs": [],
   "source": [
    "a = 842.5\n",
    "b = 2 * a\n",
    "c = 12\n",
    "d = c * b\n",
    "d"
   ]
  },
  {
   "cell_type": "markdown",
   "metadata": {},
   "source": [
    "**However**, names are very important for making your code *readable* to yourself and others.  The cell above is shorter, but it's totally useless without an explanation of what it does."
   ]
  },
  {
   "cell_type": "markdown",
   "metadata": {},
   "source": [
    "## 1.2.2.1. Checking Your Code\n",
    "Now that you know how to name things, you can start using the built-in *tests* to check whether your work is correct. Sometimes, there are multiple tests for a single question, and passing all of them is required to receive credit for the question. Please don't change the contents of the test cells. \n",
    "\n",
    "Go ahead and attempt Question 1.2.2.1.2. Running the cell directly after it will test whether you have assigned `seconds_in_a_decade` correctly in Question 2.1.2. If you haven't, this test will tell you the correct answer. Resist the urge to just copy it, and instead try to adjust your expression. (Sometimes the tests will give hints about what went wrong...)"
   ]
  },
  {
   "cell_type": "markdown",
   "metadata": {},
   "source": [
    "**Question 1.2.2.1.2.** Assign the name `seconds_in_a_decade` to the number of seconds between midnight January 1, 2010 and midnight January 1, 2020. Note that there are two leap years in this span of a decade. A non-leap year has 365 days and a leap year has 366 days.\n",
    "\n",
    "*Hint:* If you're stuck, the next section shows you how to get hints.\n"
   ]
  },
  {
   "cell_type": "code",
   "execution_count": null,
   "metadata": {
    "deletable": false,
    "tags": []
   },
   "outputs": [],
   "source": [
    "# Change the next line \n",
    "# so that it computes the number of seconds in a decade \n",
    "# and assigns that number the name, seconds_in_a_decade.\n",
    "\n",
    "seconds_in_a_decade = ...\n",
    "\n",
    "# We've put this line in this cell \n",
    "# so that it will print the value you've given to seconds_in_a_decade when you run it.  \n",
    "# You don't need to change this.\n",
    "seconds_in_a_decade"
   ]
  },
  {
   "cell_type": "code",
   "execution_count": null,
   "metadata": {
    "deletable": false,
    "editable": false
   },
   "outputs": [],
   "source": [
    "grader.check(\"q1_2_2_1_2\")"
   ]
  },
  {
   "cell_type": "markdown",
   "metadata": {},
   "source": [
    "# 1.2.2.2. Comments\n",
    "You may have noticed these lines in the cell in which you answered Question 1.2.2.1.2.:\n",
    "\n",
    "    # Change the next line \n",
    "    # so that it computes the number of seconds in a decade \n",
    "    # and assigns that number the name, seconds_in_a_decade.\n",
    "    \n",
    "This is called a *comment*. It doesn't make anything happen in Python; Python ignores anything on a line after a `#`.  Instead, it's there to communicate something about the code to you, the human reader. Comments are extremely useful. \n",
    "\n",
    "<img src=\"http://imgs.xkcd.com/comics/future_self.png\">\n",
    "\n",
    "Source: http://imgs.xkcd.com/comics/future_self.png"
   ]
  },
  {
   "cell_type": "markdown",
   "metadata": {},
   "source": [
    "## 1.2.2.3. Application: A Physics Experiment\n",
    "\n",
    "On the Apollo 15 mission to the Moon, astronaut David Scott famously replicated Galileo's physics experiment in which he showed that gravity accelerates objects of different mass at the same rate. Because there is no air resistance for a falling object on the surface of the Moon, even two objects with very different masses and densities should fall at the same rate. David Scott compared a feather and a hammer.\n",
    "\n",
    "You can run the following cell to watch a video of the experiment."
   ]
  },
  {
   "cell_type": "code",
   "execution_count": null,
   "metadata": {},
   "outputs": [],
   "source": [
    "from IPython.display import YouTubeVideo\n",
    "# The original URL is: \n",
    "# https://www.youtube.com/watch?v=U7db6ZeLR5s\n",
    "\n",
    "YouTubeVideo(\"U7db6ZeLR5s\")"
   ]
  },
  {
   "cell_type": "markdown",
   "metadata": {},
   "source": [
    "Here's the transcript of the video:\n",
    "\n",
    "**167:22:06 Scott**: Well, in my left hand, I have a feather; in my right hand, a hammer. And I guess one of the reasons we got here today was because of a gentleman named Galileo, a long time ago, who made a rather significant discovery about falling objects in gravity fields. And we thought where would be a better place to confirm his findings than on the Moon. And so we thought we'd try it here for you. The feather happens to be, appropriately, a falcon feather for our Falcon. And I'll drop the two of them here and, hopefully, they'll hit the ground at the same time. \n",
    "\n",
    "**167:22:43 Scott**: How about that!\n",
    "\n",
    "**167:22:45 Allen**: How about that! (Applause in Houston)\n",
    "\n",
    "**167:22:46 Scott**: Which proves that Mr. Galileo was correct in his findings."
   ]
  },
  {
   "cell_type": "markdown",
   "metadata": {},
   "source": [
    "**Newton's Law.** Using this footage, we can also attempt to confirm another famous bit of physics: Newton's law of universal gravitation. Newton's laws predict that any object dropped near the surface of the Moon should fall\n",
    "\n",
    "$$\\frac{1}{2} G \\frac{M}{R^2} t^2 \\text{ meters}$$\n",
    "\n",
    "after $t$ seconds, where $G$ is a universal constant, $M$ is the moon's mass in kilograms, and $R$ is the moon's radius in meters.  So if we know $G$, $M$, and $R$, then Newton's laws let us predict how far an object will fall over any amount of time.\n",
    "\n",
    "To verify the accuracy of this law, we will calculate the difference between the predicted distance the hammer drops and the actual distance.  (If they are different, it might be because Newton's laws are wrong, or because our measurements are imprecise, or because there are other factors affecting the hammer for which we haven't accounted.)\n",
    "\n",
    "Someone studied the video and estimated that the hammer was dropped 113 cm from the surface. Counting frames in the video, the hammer falls for 1.2 seconds (36 frames)."
   ]
  },
  {
   "cell_type": "markdown",
   "metadata": {},
   "source": [
    "**Question 1.2.2.3.1.** Complete the code in the next cell to fill in the data from the experiment.\n",
    "\n",
    "*Hint:* No computation required; just fill in data from the paragraph above.\n"
   ]
  },
  {
   "cell_type": "code",
   "execution_count": null,
   "metadata": {
    "deletable": false,
    "tags": []
   },
   "outputs": [],
   "source": [
    "# t, the duration of the fall in the experiment, in seconds.\n",
    "# Fill this in.\n",
    "time = ...\n",
    "\n",
    "# The estimated distance the hammer actually fell, in meters.\n",
    "# Fill this in.\n",
    "estimated_distance_m = ..."
   ]
  },
  {
   "cell_type": "code",
   "execution_count": null,
   "metadata": {
    "deletable": false,
    "editable": false
   },
   "outputs": [],
   "source": [
    "grader.check(\"q1_2_2_3_1\")"
   ]
  },
  {
   "cell_type": "markdown",
   "metadata": {},
   "source": [
    "**Question 1.2.2.3.2.** Now, complete the code in the next cell to compute the difference between the predicted and estimated distances (in meters) that the hammer fell in this experiment.\n",
    "\n",
    "This just means translating the formula above ($\\frac{1}{2}G\\frac{M}{R^2}t^2$) into Python code.  You'll have to replace each variable in the math formula with the name we gave that number in Python code.\n",
    "\n",
    "*Hint:* Try to use variables you've already defined in question 1.2.2.3.1\n"
   ]
  },
  {
   "cell_type": "code",
   "execution_count": null,
   "metadata": {
    "deletable": false,
    "tags": []
   },
   "outputs": [],
   "source": [
    "# First, we've written down the values of the 3 universal constants \n",
    "# that show up in Newton's formula.\n",
    "\n",
    "# G, the universal constant measuring the strength of gravity.\n",
    "gravity_constant = 6.674 * 10**-11\n",
    "\n",
    "# M, the moon's mass, in kilograms.\n",
    "moon_mass_kg = 7.34767309 * 10**22\n",
    "\n",
    "# R, the radius of the moon, in meters.\n",
    "moon_radius_m = 1.737 * 10**6\n",
    "\n",
    "# The distance the hammer should have fallen \n",
    "# over the duration of the fall, in meters, \n",
    "# according to Newton's law of gravity.  \n",
    "# The text above describes the formula\n",
    "# for this distance given by Newton's law.\n",
    "# **YOU FILL THIS PART IN.**\n",
    "predicted_distance_m = ...\n",
    "\n",
    "# Here we've computed the difference \n",
    "# between the predicted fall distance and the distance we actually measured.\n",
    "# If you've filled in the above code, this should just work.\n",
    "difference = predicted_distance_m - estimated_distance_m\n",
    "difference"
   ]
  },
  {
   "cell_type": "code",
   "execution_count": null,
   "metadata": {
    "deletable": false,
    "editable": false
   },
   "outputs": [],
   "source": [
    "grader.check(\"q1_2_2_3_2\")"
   ]
  },
  {
   "cell_type": "markdown",
   "metadata": {},
   "source": [
    "## 1.2.3. Calling Functions\n",
    "\n",
    "The most common way to combine or manipulate values in Python is by calling functions. Python comes with many built-in functions that perform common operations.\n",
    "\n",
    "For example, the `abs` function takes a single number as its argument and returns the absolute value of that number. Run the next two cells and see if you understand the output."
   ]
  },
  {
   "cell_type": "code",
   "execution_count": null,
   "metadata": {},
   "outputs": [],
   "source": [
    "abs(5)"
   ]
  },
  {
   "cell_type": "code",
   "execution_count": null,
   "metadata": {},
   "outputs": [],
   "source": [
    "abs(-5)"
   ]
  },
  {
   "cell_type": "markdown",
   "metadata": {},
   "source": [
    "## 1.2.3.1. Application: Computing Walking Distances\n",
    "Chunhua is on the corner of 7th Avenue and 42nd Street in Midtown Manhattan, and she wants to know far she'd have to walk to get to Gramercy School on the corner of 10th Avenue and 34th Street.\n",
    "\n",
    "She can't cut across blocks diagonally, since there are buildings in the way.  She has to walk along the sidewalks.  Using the map below, she sees she'd have to walk 3 avenues (long blocks) and 8 streets (short blocks).  In terms of the given numbers, she computed 3 as the difference between 7 and 10, *in absolute value*, and 8 similarly.  \n",
    "\n",
    "Chunhua also knows that blocks in Manhattan are all about 80m by 274m (avenues are farther apart than streets).  So in total, she'd have to walk $(80 \\times |42 - 34| + 274 \\times |7 - 10|)$ meters to get to the park.\n",
    "\n",
    "<img src=\"map.jpg\"/>\n",
    "\n",
    "**Question 1.2.3.1.1.** Fill in the line `num_avenues_away = ...` in the next cell so that the cell calculates the distance Chunhua must walk and gives it the name `manhattan_distance`.  Everything else has been filled in for you.  **Use the `abs` function.** Also, be sure to run the test cell afterward to test your code.\n"
   ]
  },
  {
   "cell_type": "code",
   "execution_count": null,
   "metadata": {
    "deletable": false,
    "tags": []
   },
   "outputs": [],
   "source": [
    "# Here's the number of streets away:\n",
    "num_streets_away = abs(42-34)\n",
    "\n",
    "# Compute the number of avenues away in a similar way:\n",
    "num_avenues_away = ...\n",
    "\n",
    "street_length_m = 80\n",
    "avenue_length_m = 274\n",
    "\n",
    "# Now we compute the total distance Chunhua must walk.\n",
    "manhattan_distance = street_length_m*num_streets_away + avenue_length_m*num_avenues_away\n",
    "\n",
    "# We've included this line so that you see the distance you've computed \n",
    "# when you run this cell.  \n",
    "# You don't need to change it, but you can if you want.\n",
    "manhattan_distance"
   ]
  },
  {
   "cell_type": "code",
   "execution_count": null,
   "metadata": {
    "deletable": false,
    "editable": false
   },
   "outputs": [],
   "source": [
    "grader.check(\"q1_2_3_1_1\")"
   ]
  },
  {
   "cell_type": "markdown",
   "metadata": {},
   "source": [
    "##### Multiple arguments\n",
    "Some functions take multiple arguments, separated by commas. For example, the built-in `max` function returns the maximum argument passed to it."
   ]
  },
  {
   "cell_type": "code",
   "execution_count": null,
   "metadata": {},
   "outputs": [],
   "source": [
    "max(2, -3, 4, -5)"
   ]
  },
  {
   "cell_type": "markdown",
   "metadata": {},
   "source": [
    "#  1.2.4. Understanding Nested Expressions\n",
    "Function calls and arithmetic expressions can themselves contain expressions.  You saw an example in the last question:\n",
    "\n",
    "    abs(42-34)\n",
    "\n",
    "has 2 number expressions in a subtraction expression in a function call expression.  And you probably wrote something like `abs(7-10)` to compute `num_avenues_away`.\n",
    "\n",
    "Nested expressions can turn into complicated-looking code. However, the way in which complicated expressions break down is very regular.\n",
    "\n",
    "Suppose we are interested in lengths of cats that are very unusual.  We'll say that a length is unusual to the extent that it's far away on the number line from the average cat length.  [An estimate](https://en.wikipedia.org/wiki/Cat#:~:text=The%20domestic%20cat%20has%20a,(9%20and%2011%20lb).) of the average cat length (averaging, we hope, over all cats on Earth today) is 18.2 inches.\n",
    "\n",
    "So if Ravioli is 21.7 inches long, then her length is $|21.7 - 18.2|$, or $3.5$, inches away from the average.  Here's a picture of that:\n",
    "\n",
    "<img src=\"cat_lengths.png\">\n",
    "\n",
    "And here's how we'd write that in one line of Python code:\n",
    "\n",
    "**Dataset Details:**\n",
    "- Origin: The source for average cat length is [Wikipedia](https://en.wikipedia.org/wiki/Cat#:~:text=The%20domestic%20cat%20has%20a,(9%20and%2011%20lb).). The listed lengths for cats are not real and may not be plausible (but the names are of real cats!)\n",
    "- Extra Context: None."
   ]
  },
  {
   "cell_type": "code",
   "execution_count": null,
   "metadata": {},
   "outputs": [],
   "source": [
    "abs(21.7 - 18.2)"
   ]
  },
  {
   "cell_type": "markdown",
   "metadata": {},
   "source": [
    "What's going on here?  `abs` takes just one argument, so the stuff inside the parentheses is all part of that *single argument*.  Specifically, the argument is the value of the expression `21.7 - 18.2`.  The value of that expression is `3.5`.  That value is the argument to `abs`.  The absolute value of that is `3.5`, so `3.5` is the value of the full expression `abs(21.7 - 18.2)`.\n",
    "\n",
    "Picture simplifying the expression in several steps:\n",
    "\n",
    "1. `abs(21.7 - 18.2)`\n",
    "2. `abs(3.5)`\n",
    "3. `3.5`\n",
    "\n",
    "In fact, that's basically what Python does to compute the value of the expression."
   ]
  },
  {
   "cell_type": "markdown",
   "metadata": {},
   "source": [
    "**Question 1.2.4.1.** Say that Genghis's length is 16.7 inches.  In the next cell, use `abs` to compute the absolute value of the difference between Genghis's length and the average cat length.  Give that value the name `genghis_distance_from_average_in`.\n"
   ]
  },
  {
   "cell_type": "code",
   "execution_count": null,
   "metadata": {
    "deletable": false,
    "tags": []
   },
   "outputs": [],
   "source": [
    "# Replace the ... with an expression \n",
    "# to compute the absolute value \n",
    "# of the difference between Genghis's length (16.7 in) and the average cat length.\n",
    "genghis_distance_from_average_in = ...\n",
    "\n",
    "# Again, we've written this here \n",
    "# so that the distance you compute will get printed \n",
    "# when you run this cell.\n",
    "genghis_distance_from_average_in"
   ]
  },
  {
   "cell_type": "code",
   "execution_count": null,
   "metadata": {
    "deletable": false,
    "editable": false
   },
   "outputs": [],
   "source": [
    "grader.check(\"q1_2_4_1\")"
   ]
  },
  {
   "cell_type": "markdown",
   "metadata": {},
   "source": [
    "## 1.2.4.1. More Nesting\n",
    "Now say that we want to compute the more unusual of the two cat lengths.  We'll use the function `max`, which (again) takes two numbers as arguments and returns the larger of the two arguments.  Combining that with the `abs` function, we can compute the larger distance from average among the two length:"
   ]
  },
  {
   "cell_type": "code",
   "execution_count": null,
   "metadata": {},
   "outputs": [],
   "source": [
    "# Just read and run this cell.\n",
    "\n",
    "ravioli_length_in = 21.7\n",
    "genghis_length_in = 16.7\n",
    "average_cat_length = 18.2\n",
    "\n",
    "# The larger distance from the average cat length, among the two length:\n",
    "larger_distance_in = max(abs(ravioli_length_in - average_cat_length), abs(genghis_length_in - average_cat_length))\n",
    "\n",
    "# Print out our results in a nice readable format:\n",
    "print(\"The larger distance from the average length among these two cats is\", larger_distance_in, \"inches.\")"
   ]
  },
  {
   "cell_type": "markdown",
   "metadata": {},
   "source": [
    "The line where `larger_distance_in` is computed looks complicated, but we can break it down into simpler components just like we did before.\n",
    "\n",
    "The basic recipe is to repeatedly simplify small parts of the expression:\n",
    "* **Basic expressions:** Start with expressions whose values we know, like names or numbers.\n",
    "    - Examples: `genghis_length_in` or `16.7`.\n",
    "* **Find the next simplest group of expressions:** Look for basic expressions that are directly connected to each other. This can be by arithmetic or as arguments to a function call. \n",
    "    - Example: `genghis_length_in - average_cat_length`.\n",
    "* **Evaluate that group:** Evaluate the arithmetic expression or function call. Use the value computed to replace the group of expressions.  \n",
    "    - Example: `genghis_length_in - average_cat_length` becomes `-1.3`.\n",
    "* **Repeat:** Continue this process, using the value of the previously-evaluated expression as a new basic expression. Stop when we've evaluated the entire expression.\n",
    "    - Example: `abs(-1.3)` becomes `1.3`, and `max(3.5, 1.3)` becomes `3.5`.\n",
    "\n",
    "You can run the next cell to see a slideshow of that process."
   ]
  },
  {
   "cell_type": "code",
   "execution_count": null,
   "metadata": {},
   "outputs": [],
   "source": [
    "from IPython.display import IFrame\n",
    "IFrame('https://docs.google.com/presentation/d/1g2J9ZkB2Tr_jUw45kiAgOPeC8QAE9thHFCEhqm6mHnM/embed?start=false&loop=false&delayms=3000', 800, 600)"
   ]
  },
  {
   "cell_type": "markdown",
   "metadata": {},
   "source": [
    "Ok, your turn. \n",
    "\n",
    "**Question 1.2.4.1.1.** Given the lengths of Yanay's cats Hummus, Gatkes, and Zeepty, write an expression that computes the smallest difference between any of the three lengths. Your expression shouldn't have any numbers in it, only function calls and the names `hummus`, `gatkes`, and `zeepty`. Give the value of your expression the name `min_length_difference`.\n"
   ]
  },
  {
   "cell_type": "code",
   "execution_count": null,
   "metadata": {
    "deletable": false,
    "tags": []
   },
   "outputs": [],
   "source": [
    "# The three cats' lengths, in meters:\n",
    "hummus =  24.5 # Hummus is 24.5 inches long\n",
    "gatkes = 19.7 # Gatkes is 19.7 inches long\n",
    "zeepty = 15.8 # Zeepty is 15.8 inches long\n",
    "             \n",
    "# We'd like to look at all 3 pairs of lengths, \n",
    "# compute the absolute difference between each pair, \n",
    "# and then find the smallest of those 3 absolute differences.  \n",
    "# This is left to you!  \n",
    "# If you're stuck, try computing the value for each step of the process \n",
    "# (like the difference between Hummus's length and Gatkes's length) \n",
    "# on a separate line and giving it a name (like hummus_gatkes_length_diff)\n",
    "min_length_difference = ..."
   ]
  },
  {
   "cell_type": "code",
   "execution_count": null,
   "metadata": {
    "deletable": false,
    "editable": false
   },
   "outputs": [],
   "source": [
    "grader.check(\"q1_2_4_1_1\")"
   ]
  },
  {
   "cell_type": "markdown",
   "metadata": {},
   "source": [
    "----\n",
    "## Done!\n",
    "\n",
    "You're done with the lab! \n",
    "\n",
    "Harley wanted to congratulate you!\n",
    "\n",
    "<img src=\"harley.png\" alt=\"drawing\" width=\"300\"/>"
   ]
  },
  {
   "cell_type": "markdown",
   "metadata": {},
   "source": [
    "---"
   ]
  },
  {
   "cell_type": "markdown",
   "metadata": {},
   "source": [
    "## Finishing up\n",
    "\n",
    "**Important submission information:** \n",
    "- Be sure to run the tests and verify that they all pass by running the `grader.check_all()` cell below,\n",
    "- Save your progress by choosing the **Save and Checkpoint** item in the **File** menu, \n",
    "- Submit your work by clicking the **Submit** button in the toolbar at the top of notebook. \n",
    "- Download a zip file of this notebook by running the last cell below. **Note:** Be sure to run all the tests before exporting so that all images/graphs appear in the exported notebook. \n",
    "\n",
    "**Please save before submitting!**"
   ]
  },
  {
   "cell_type": "code",
   "execution_count": null,
   "metadata": {},
   "outputs": [],
   "source": [
    "# To double-check your work, the cell below will rerun all of the autograder tests.\n",
    "grader.check_all()"
   ]
  },
  {
   "cell_type": "code",
   "execution_count": null,
   "metadata": {},
   "outputs": [],
   "source": [
    "# Save your notebook first, then run this cell to export your submission.\n",
    "grader.export(pdf=False)"
   ]
  }
 ],
 "metadata": {
  "kernelspec": {
   "display_name": "Python 3",
   "language": "python",
   "name": "python3"
  },
  "language_info": {
   "codemirror_mode": {
    "name": "ipython",
    "version": 3
   },
   "file_extension": ".py",
   "mimetype": "text/x-python",
   "name": "python",
   "nbconvert_exporter": "python",
   "pygments_lexer": "ipython3",
   "version": "3.9.13"
  },
  "otter": {
   "OK_FORMAT": true,
   "tests": {
    "q1_2_2_1_2": {
     "name": "q1_2_2_1_2",
     "points": null,
     "suites": [
      {
       "cases": [
        {
         "code": ">>> # It looks like you didn't give anything the name\n>>> # seconds_in_a_decade.  Maybe there's a typo, or maybe you\n>>> # just need to run the cell below Question 3.2 where you defined\n>>> # seconds_in_a_decade.  (Click that cell and then click the \"run\n>>> # cell\" button in the menu bar above.)\n>>> 'seconds_in_a_decade' in vars()\nTrue",
         "hidden": false,
         "locked": false
        },
        {
         "code": ">>> # It looks like you didn't change the cell to define\n>>> # seconds_in_a_decade appropriately.  It should be a number,\n>>> # computed using Python's arithmetic.  For example, this is\n>>> # almost right:\n>>> #   seconds_in_a_decade = 10*365*24*60*60\n>>> seconds_in_a_decade != ...\nTrue",
         "hidden": false,
         "locked": false
        },
        {
         "code": ">>> # It looks like you didn't account for leap years.\n>>> # There were 2 leap years and 8 non-leap years in this period.\n>>> # Leap years have 366 days instead of 365.\n>>> seconds_in_a_decade != 315360000\nTrue",
         "hidden": false,
         "locked": false
        },
        {
         "code": ">>> seconds_in_a_decade == 315532800\nTrue",
         "hidden": false,
         "locked": false
        }
       ],
       "scored": true,
       "setup": "",
       "teardown": "",
       "type": "doctest"
      }
     ]
    },
    "q1_2_2_3_1": {
     "name": "q1_2_2_3_1",
     "points": null,
     "suites": [
      {
       "cases": [
        {
         "code": ">>> # Fill in the row\n>>> #   time = ...\n>>> # with something like:\n>>> #   time = 4.567\n>>> # (except with the right number).\n>>> time != ...\nTrue",
         "hidden": false,
         "locked": false
        },
        {
         "code": ">>> # Read the text above the question to see what\n>>> # time should be. \n>>> round(time, 5)\n1.2",
         "hidden": false,
         "locked": false
        },
        {
         "code": ">>> # Fill in the row\n>>> #   estimated_distance_m = ...\n>>> # with something like:\n>>> #   estimated_distance_m = 4.567\n>>> # (except with the right number). \n>>> estimated_distance_m != ...\nTrue",
         "hidden": false,
         "locked": false
        },
        {
         "code": ">>> # Note that the units are meters, but the text used\n>>> # centimeters.\n>>> estimated_distance_m != 113\nTrue",
         "hidden": false,
         "locked": false
        },
        {
         "code": ">>> # Read the text above the question to see what\n>>> # estimated_distance_m should be.\n>>> round(estimated_distance_m, 5)\n1.13",
         "hidden": false,
         "locked": false
        }
       ],
       "scored": true,
       "setup": "",
       "teardown": "",
       "type": "doctest"
      }
     ]
    },
    "q1_2_2_3_2": {
     "name": "q1_2_2_3_2",
     "points": null,
     "suites": [
      {
       "cases": [
        {
         "code": ">>> # Fill in the line that currently says\n>>> #   predicted_distance_m = ...\n>>> # in the cell above.\n>>> predicted_distance_m != ...\nTrue",
         "hidden": false,
         "locked": false
        },
        {
         "code": ">>> # Compute predicted_distance_m using the formula in the text\n>>> # above.  Hint: it should start with something like this:\n>>> #   predicted_distance_m = (1/2) * gravity_constant ...\n>>> round(predicted_distance_m, 5)\n1.17022",
         "hidden": false,
         "locked": false
        },
        {
         "code": ">>> round(difference, 5)\n0.04022",
         "hidden": false,
         "locked": false
        }
       ],
       "scored": true,
       "setup": "",
       "teardown": "",
       "type": "doctest"
      }
     ]
    },
    "q1_2_3_1_1": {
     "name": "q1_2_3_1_1",
     "points": null,
     "suites": [
      {
       "cases": [
        {
         "code": ">>> # Fill in the line\n>>> #   num_avenues_away = ...\n>>> # in the cell above. \n>>> num_avenues_away != ...\nTrue",
         "hidden": false,
         "locked": false
        },
        {
         "code": ">>> # Remember to compute the absolute value of 7-10.  Traveling \n>>> # \"-3 blocks\" doesn't really make sense!\n>>> num_avenues_away != -3\nTrue",
         "hidden": false,
         "locked": false
        },
        {
         "code": ">>> num_avenues_away\n3",
         "hidden": false,
         "locked": false
        },
        {
         "code": ">>> manhattan_distance\n1462",
         "hidden": false,
         "locked": false
        }
       ],
       "scored": true,
       "setup": "",
       "teardown": "",
       "type": "doctest"
      }
     ]
    },
    "q1_2_4_1": {
     "name": "q1_2_4_1",
     "points": null,
     "suites": [
      {
       "cases": [
        {
         "code": ">>> round(genghis_distance_from_average_in, 3)\n1.5",
         "hidden": false,
         "locked": false
        }
       ],
       "scored": true,
       "setup": "",
       "teardown": "",
       "type": "doctest"
      }
     ]
    },
    "q1_2_4_1_1": {
     "name": "q1_2_4_1_1",
     "points": null,
     "suites": [
      {
       "cases": [
        {
         "code": ">>> round(min_length_difference, 5)\n3.9",
         "hidden": false,
         "locked": false
        }
       ],
       "scored": true,
       "setup": "",
       "teardown": "",
       "type": "doctest"
      }
     ]
    }
   }
  },
  "course": "8x",
  "section": "1",
  "lab": "lab01"
 },
 "nbformat": 4,
 "nbformat_minor": 5
}